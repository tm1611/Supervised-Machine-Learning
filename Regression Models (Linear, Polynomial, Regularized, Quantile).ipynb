{
 "cells": [
  {
   "cell_type": "markdown",
   "metadata": {},
   "source": [
    "# Introduction\n",
    "This notebook consists of a brief demonstration on how to implement linear and regularized regression models using sklearn. Focus lies on the developer's perspective, i.e. on implementing and fitting the model. For a more thorough theoretical description beyond my short explanations, see one of many awesome ressources on the topic, for example:\n",
    "- Joshua D. Angrist, Jörn-Steffen Pischke: Mostly Harmless Econometrics\n",
    "- Jeffrey M. Woolridge: Introductory Econometrics\n",
    "- William H. Greene: Econometric Analysis\n",
    "- Fahrmeir, Kneib, Lang and Marx: Regression\n",
    "\n",
    "Source code of the imported functions can be found here:\n",
    "- [LinearRegression](https://github.com/scikit-learn/scikit-learn/blob/7b136e9/sklearn/linear_model/base.py#L362).\n",
    "- [Lasso](https://github.com/scikit-learn/scikit-learn/blob/7b136e9/sklearn/linear_model/coordinate_descent.py#L811)\n",
    "- [PolynomialFeatures](https://github.com/scikit-learn/scikit-learn/blob/7b136e9/sklearn/preprocessing/data.py#L1331)\n",
    "\n",
    "## Regression Models\n",
    "The main objective of regression models is to model the effect of a given set of explanatory variables $x_i$ on a variable y, which is called the dependent or response variable. We have different ways to to do this, depending on the kind of response variable and type of covariates. A common characteristic is that the relationship between y and x can be seperated in a deterministic part which we'd like to model and a stochastic error part $\\epsilon$.\n",
    "\n",
    "$$\n",
    "\\begin{align}\n",
    "y = E(y|x) + \\epsilon = f(x) + \\epsilon \n",
    "\\end{align}\n",
    "$$\n",
    "\n",
    "Our primary goal is to use the given data $y_i, x_{i1}, ..., x_{ik}$ to estimate the deterministic part and seperate it from the stochastic error component $\\epsilon$.\n",
    "\n",
    "Commonly used estimation techniques are the normal form equation for simple models, maximum likelihood estimation (MLE) and, in particular used in machine learning (ML), gradient descent (GD).\n",
    "\n",
    "- **Normal Form Equation:** Closed form solution (gives the result directly) that minimizes the squared error.\n",
    "\n",
    "$$\n",
    "\\begin{align}\n",
    "\\hat{\\beta} = (X'X)^{-1}X'y\n",
    "\\end{align}\n",
    "$$\n",
    "\n",
    "- **Maximum Likelihood Estimation:** Relies on the maximization of the likelihood function (joint density of $y_i$) and answering the question: \"What are the most likely parameters for this specification?\".\n",
    "\n",
    "$$\n",
    "\\begin{align}\n",
    "L(\\theta|y) = \\prod_{i=1}^N L_i (\\theta|y_i, x_i) = \\prod_{i=1}^N f(y_i|x_i; \\theta)  \n",
    "\\end{align}\n",
    "$$\n",
    "\n",
    "Usually, it is easier to use the natural logartitm, yielding the log-likelihood function. \n",
    "\n",
    "$$\n",
    "\\begin{align}\n",
    "\\underset{\\theta}{max} \\: log \\: L(\\theta) = \\underset{\\theta}{max} \\sum_{i=1}^N log \\: L_i(\\theta) \n",
    "\\end{align}\n",
    "$$\n",
    "\n",
    "The Maximum Likelihood-estimate is defined as the solution to $s(\\beta) = 0$, where $s(\\beta)$ denotes the score-function, which is the first order condition of the the log-likelihood function wrt $\\beta$.\n",
    "\n",
    "$$\n",
    "\\begin{align}\n",
    "s(\\beta) = \\sum_{i=1}^n \\frac{\\partial \\, log \\, L_i(\\beta)}{\\partial \\beta}\n",
    "\\end{align}\n",
    "$$\n",
    "\n",
    "The solution can be found by numerical optimization algorithms (e.g. [Fisher Scoring](https://en.wikipedia.org/wiki/Scoring_algorithm) as a form of [Newton's method](https://en.wikipedia.org/wiki/Newton%27s_method). A good ressource on this is Greene (2003). \n",
    "\n",
    "- **Gradient Descent:** Generic optimization algorithm with the idea to change parameters iteratively in order to minimize a specified cost function. It measures the local gradient of the error function wrt the parameters and takes a \"step\" towards the direction of descending gradient. After each step, the gradient is calculated again before taking another step. As the gradient is zero, a minimum is reached.  "
   ]
  },
  {
   "cell_type": "code",
   "execution_count": 1,
   "metadata": {},
   "outputs": [],
   "source": [
    "# Time\n",
    "from time import time\n",
    "start_notebook = time()\n",
    "\n",
    "# Imports\n",
    "import numpy as np\n",
    "import pandas as pd\n",
    "import matplotlib.pyplot as plt\n",
    "\n",
    "from sklearn import datasets"
   ]
  },
  {
   "cell_type": "markdown",
   "metadata": {},
   "source": [
    "## 1. Linear Regression\n",
    "Linear regression is the most commonly used form of a regression model. The deterministic part is modeled as\n",
    "\n",
    "$$\n",
    "\\begin{align}\n",
    "E(y|x) &= x'\\beta \\\\\n",
    "&= \\beta_0 + \\beta_1 x_1 + ... + \\beta_k x_k \n",
    "\\end{align}\n",
    "$$\n",
    "\n",
    "- y is the observed dependent variable \n",
    "- x denotes covariates or independent variables\n",
    "- $\\beta$ is a parameter vector, which can be interpreted as partial derivatives of the dependent variable wrt the independent variable. Another explanation which is probably more intuitive is to perceive them as weights of respective x vector.  \n",
    "\n",
    "Because we are modeling the relation between the conditional expectation and covariates the model yields the expected value of y (or arithmetic mean). There are other models which relate the covariates to the median (Median regression) or specific quantiles (Quantile regression, see below). Here, we observe x and want to model the relation to the mean of y.\n",
    "\n",
    "A linear, additive relationship between y and x is assumed. As aforementioned, this relationship will never be perfect and, therefore, will have a stochastic error part. Hence, the model can be expressed as: \n",
    "\n",
    "$$\n",
    "\\begin{align}\n",
    "y &= \\beta_0 + \\beta_1 x_{1} + ... + \\beta_k x_k + \\epsilon_i, \\\\\n",
    " &= x_i' \\beta + \\epsilon_i, \\hspace{7mm} \n",
    "\\end{align}\n",
    "$$ \n",
    "\n",
    "Assumptions of the standard linear regression model are that the errors $\\epsilon$ are independent and identically distributed (i.i.d assumption) with\n",
    "$$E(\\epsilon_i) = 0 \\hspace{10mm} Var(\\epsilon_i) = \\sigma^2,$$\n",
    "\n",
    "This assertion includes various important assumptions about the error at once. In particular, this includes the assumption of \n",
    "- **Strict exogeneity**, meaning that the error is uncorrelated with the regressors x $E(x' \\epsilon) = 0 $),\n",
    "- Assumption of **Spherical errors**, where $Var(\\epsilon | X) = \\sigma^2 I_n$. Otherwise, inference is invalid and estimator not efficient. Note that this can further be subdivided into two parts of problems to the error\n",
    " - We assume **homoscedastic errors**: $E(\\epsilon_i^2 | X) = \\sigma^2$ for all observations\n",
    " - and **no autocorrelation:** $E[\\epsilon_i \\epsilon_j | X] = 0$, for $i \\neq j$.\n",
    "\n",
    "In addition, it is sometimes assumed that errors are normally distributed to establish certain finite-sample properties.\n",
    "\n",
    "$$ \\epsilon_i \\sim N(0,\\sigma^2)$$\n",
    "\n",
    "We will use the `LinearRegression()` fucntion of the `sklearn.linear_model` class. Documentation can be found [here](https://scikit-learn.org/stable/modules/generated/sklearn.linear_model.LinearRegression.html)."
   ]
  },
  {
   "cell_type": "markdown",
   "metadata": {},
   "source": [
    "--- \n",
    "### Linear Regression Example I: Life Expectancy\n",
    "\n",
    "Predict life expectancy from BMI\n",
    "\n",
    "Steps:\n",
    "- Imports\n",
    "- Load data\n",
    "- Instantiate `LinearRegression()` class.\n",
    "- Fit data\n",
    "- Predict life expectancy using a theoretical BMI of 26."
   ]
  },
  {
   "cell_type": "code",
   "execution_count": 2,
   "metadata": {},
   "outputs": [
    {
     "name": "stdout",
     "output_type": "stream",
     "text": [
      "0    20.62058\n",
      "1    26.44657\n",
      "2    24.59620\n",
      "3    27.63048\n",
      "4    22.25083\n",
      "Name: BMI, dtype: float64\n",
      "0    52.8\n",
      "1    76.8\n",
      "2    75.5\n",
      "3    84.6\n",
      "4    56.7\n",
      "Name: Life expectancy, dtype: float64\n"
     ]
    }
   ],
   "source": [
    "# Additional imports\n",
    "from sklearn.linear_model import LinearRegression\n",
    "\n",
    "# Step 1: Load the data using pandas\n",
    "data = pd.read_csv(\"data/data_bmi_and_life_expectancy.csv\")\n",
    "x = data[\"BMI\"]\n",
    "y = data[\"Life expectancy\"]\n",
    "\n",
    "print(x.head())\n",
    "print(y.head())"
   ]
  },
  {
   "cell_type": "code",
   "execution_count": 3,
   "metadata": {},
   "outputs": [
    {
     "data": {
      "image/png": "[encoded data removed]",
      "text/plain": [
       "<matplotlib.figure.Figure at 0x1379cbd1a20>"
      ]
     },
     "metadata": {
      "needs_background": "light"
     },
     "output_type": "display_data"
    }
   ],
   "source": [
    "# Visualization\n",
    "colors = (0,0,0)\n",
    "area = np.pi*3\n",
    "\n",
    "plt.scatter(x, y, s = area, c = colors, alpha = 0.7)\n",
    "plt.title(\"Scatterplot of Life Expectancy and BMI \")\n",
    "plt.xlabel(\"BMI\")\n",
    "plt.ylabel(\"Life Expectancy\")\n",
    "plt.show();"
   ]
  },
  {
   "cell_type": "code",
   "execution_count": 4,
   "metadata": {},
   "outputs": [
    {
     "name": "stdout",
     "output_type": "stream",
     "text": [
      "Predicted Life Expectancy: 72.71\n",
      "Intercept:  7.2278\n",
      "Coefficient:  2.5185\n"
     ]
    }
   ],
   "source": [
    "# Step 2: Build a linear regression model \n",
    "reg = LinearRegression()\n",
    "reg = reg.fit(data[[\"BMI\"]], data[[\"Life expectancy\"]]) \n",
    "\n",
    "# Step 3: Predict life expectancy of a BMI of 26 \n",
    "BMI = 26\n",
    "life_exp = reg.predict(BMI).round(2)[0][0]\n",
    "print(\"Predicted Life Expectancy:\", life_exp)\n",
    "\n",
    "# Coefficients\n",
    "bhat0 = round(reg.intercept_[0],4)\n",
    "bhat1 = round(reg.coef_[0][0],4)\n",
    "\n",
    "print(\"Intercept: \", bhat0)\n",
    "print(\"Coefficient: \", bhat1)"
   ]
  },
  {
   "cell_type": "markdown",
   "metadata": {},
   "source": [
    "---\n",
    "### Linear Regression II: Boston data\n",
    "\n",
    "Use sklearn dataset API to load diabetes [data](https://scikit-learn.org/stable/modules/generated/sklearn.datasets.load_diabetes.html#sklearn.datasets.load_diabetes). Note that a dictionary-like object is returned, consisting of:\n",
    "- target (y): Regression target for each sample, dependent variable\n",
    "- data (X): Data to learn, independent variables or feature matrix of variables.\n",
    "- other information on the data"
   ]
  },
  {
   "cell_type": "code",
   "execution_count": 5,
   "metadata": {},
   "outputs": [
    {
     "name": "stdout",
     "output_type": "stream",
     "text": [
      "(506, 13)\n",
      "(506,)\n"
     ]
    }
   ],
   "source": [
    "# Load data\n",
    "boston_data = datasets.load_boston()\n",
    "x = boston_data[\"data\"]\n",
    "y = boston_data[\"target\"]\n",
    "\n",
    "print(x.shape)\n",
    "print(y.shape)"
   ]
  },
  {
   "cell_type": "code",
   "execution_count": 6,
   "metadata": {},
   "outputs": [
    {
     "name": "stdout",
     "output_type": "stream",
     "text": [
      "Prediction for sample house:  23.68\n",
      "b1:-0.1072\n",
      "b2:0.0464\n",
      "b3:0.0209\n",
      "b4:2.6886\n",
      "b5:-17.7958\n",
      "b6:3.8048\n",
      "b7:0.0008\n",
      "b8:-1.4758\n",
      "b9:0.3057\n",
      "b10:-0.0123\n",
      "b11:-0.9535\n",
      "b12:0.0094\n",
      "b13:-0.5255\n"
     ]
    }
   ],
   "source": [
    "# Linear regression for prediction\n",
    "reg = LinearRegression()\n",
    "reg.fit(x,y)\n",
    "\n",
    "# Prediction\n",
    "sample_house = [[2.29690000e-01, 0.00000000e+00, 1.05900000e+01, 0.00000000e+00, 4.89000000e-01,\n",
    "                6.32600000e+00, 5.25000000e+01, 4.35490000e+00, 4.00000000e+00, 2.77000000e+02,\n",
    "                1.86000000e+01, 3.94870000e+02, 1.09700000e+01]]\n",
    "\n",
    "prediction = reg.predict(sample_house).round(2)\n",
    "print(\"Prediction for sample house: \",prediction[0])\n",
    "\n",
    "for i in range(len(reg.coef_)):\n",
    "    print(\"b\"+str(i+1)+\":\"+str(reg.coef_[i].round(4)))\n",
    "    "
   ]
  },
  {
   "cell_type": "markdown",
   "metadata": {},
   "source": [
    "--- \n",
    "### Linear Regression III: Diabetes\n",
    "The following code shows how to ... For illustration purposes only one feature is considered (x3)."
   ]
  },
  {
   "cell_type": "code",
   "execution_count": 7,
   "metadata": {},
   "outputs": [
    {
     "name": "stdout",
     "output_type": "stream",
     "text": [
      "Shape of full dataset: (442, 10)\n",
      "\n",
      " [[ 0.03807591  0.05068012  0.06169621  0.02187235 -0.0442235  -0.03482076\n",
      "  -0.04340085 -0.00259226  0.01990842 -0.01764613]\n",
      " [-0.00188202 -0.04464164 -0.05147406 -0.02632783 -0.00844872 -0.01916334\n",
      "   0.07441156 -0.03949338 -0.06832974 -0.09220405]\n",
      " [ 0.08529891  0.05068012  0.04445121 -0.00567061 -0.04559945 -0.03419447\n",
      "  -0.03235593 -0.00259226  0.00286377 -0.02593034]\n",
      " [-0.08906294 -0.04464164 -0.01159501 -0.03665645  0.01219057  0.02499059\n",
      "  -0.03603757  0.03430886  0.02269202 -0.00936191]\n",
      " [ 0.00538306 -0.04464164 -0.03638469  0.02187235  0.00393485  0.01559614\n",
      "   0.00814208 -0.00259226 -0.03199144 -0.04664087]]\n",
      "\n",
      "Shape of x3:  (442, 1)\n"
     ]
    }
   ],
   "source": [
    "# Additional imports\n",
    "from sklearn.metrics import mean_squared_error, r2_score\n",
    "from sklearn.model_selection import train_test_split\n",
    "\n",
    "# Load data\n",
    "diabetes = datasets.load_diabetes()\n",
    "\n",
    "# Data exploration\n",
    "X_full = diabetes[\"data\"]\n",
    "print(\"Shape of full dataset:\", X_full.shape)\n",
    "print(\"\\n\",X_full[:5,])\n",
    "\n",
    "# Take out only third feature x3\n",
    "x3 = diabetes.data[:, np.newaxis, 2]\n",
    "print(\"\\nShape of x3: \", x3.shape)"
   ]
  },
  {
   "cell_type": "code",
   "execution_count": 8,
   "metadata": {},
   "outputs": [
    {
     "name": "stdout",
     "output_type": "stream",
     "text": [
      "Intercept:  152.0 \n",
      "Coefficient:  998.58\n",
      "MSE:  4061.83\n",
      "R2:  0.23\n"
     ]
    },
    {
     "data": {
      "image/png": "[encoded data removed]",
      "text/plain": [
       "<matplotlib.figure.Figure at 0x1379df16710>"
      ]
     },
     "metadata": {},
     "output_type": "display_data"
    }
   ],
   "source": [
    "# Split data into training/testing data\n",
    "x_train, x_test, y_train, y_test = train_test_split(x3, \n",
    "                                                    diabetes.target, \n",
    "                                                    test_size =0.2,\n",
    "                                                    random_state=42)\n",
    "\n",
    "# Instantiate regression object\n",
    "reg = LinearRegression()\n",
    "\n",
    "# Fit the model to object\n",
    "reg.fit(x_train, y_train)\n",
    "\n",
    "# Coefficients\n",
    "print(\"Intercept: \", reg.intercept_.round(2) ,\"\\nCoefficient: \", reg.coef_[0].round(2) )\n",
    "\n",
    "# Predictions\n",
    "y_pred = reg.predict(x_test)\n",
    "\n",
    "# MSE\n",
    "print(\"MSE: \", mean_squared_error(y_test, y_pred).round(2))\n",
    "\n",
    "# R-squared\n",
    "print(\"R2: \", r2_score(y_test, y_pred).round(2))\n",
    "\n",
    "# Calculate vectorized form of t-values\n",
    "\n",
    "# Plots\n",
    "plt.scatter(x_test, y_test, color=\"black\")\n",
    "plt.plot(x_test, y_pred, color =\"blue\", linewidth=2)\n",
    "plt.xticks(())\n",
    "plt.yticks(())\n",
    "plt.show()"
   ]
  },
  {
   "cell_type": "markdown",
   "metadata": {},
   "source": [
    "---\n",
    "### 2. Polynomial Regression\n",
    "We will now assume a nonlinear relationship between the conditional mean of y and x, for example\n",
    "\n",
    "$$ \n",
    "\\begin{align}\n",
    "E(y|x) = \\beta_0 + \\beta_1 x + \\beta_2 x^2 + ... +  \\epsilon  \n",
    "\\end{align}\n",
    "$$\n",
    "\n",
    "Therefore, we will add additional polynomials of x. This is called **polynomial regression**. Note that we can use this kind of regressions to fit nonlinear data with a linear model specification. "
   ]
  },
  {
   "cell_type": "code",
   "execution_count": 9,
   "metadata": {},
   "outputs": [
    {
     "name": "stdout",
     "output_type": "stream",
     "text": [
      "Coefficients:  [ 3.37563501 -6.28126025 -2.3787942   0.55307182  0.22699807]\n"
     ]
    }
   ],
   "source": [
    "# Import polynomial features\n",
    "from sklearn.preprocessing import PolynomialFeatures\n",
    "\n",
    "# Data\n",
    "data = pd.read_csv(\"data/data_poly_reg.csv\")\n",
    "x = data[\"Var_X\"].values.reshape(-1,1)\n",
    "y = data[\"Var_Y\"].values\n",
    "\n",
    "# Instantiate polyomial object\n",
    "poly_feat = PolynomialFeatures(degree = 4)\n",
    "\n",
    "# Fit polynomial object to x\n",
    "x_poly = poly_feat.fit_transform(x)\n",
    "\n",
    "# Polynomial regression\n",
    "poly_reg = LinearRegression(fit_intercept = False)\n",
    "poly_reg.fit(x_poly, y)\n",
    "\n",
    "# Coefficients\n",
    "print(\"Coefficients: \", poly_reg.coef_)"
   ]
  },
  {
   "cell_type": "markdown",
   "metadata": {},
   "source": [
    "**To do** \n",
    "- Show that unconstrained polynomial regression tends to overfit and therefore often suffers from poor generalizability. \n",
    "- Show and explain the bias-variance tradeoff\n",
    " - Compare and contrast linear regression and polynomial regression as two complete opposites.\n",
    "- Add another polynomial regression using more complex data and add plots\n",
    "- Regularized regression as a middle ground to balance bias and variance"
   ]
  },
  {
   "cell_type": "markdown",
   "metadata": {},
   "source": [
    "---\n",
    "## 3. Regularized Regression\n",
    "We have seen two \"extreme\" cases of regression models. Whereas, linear regression fits a simple straight line to the data, polynomial regression can fit curves pretty well at the cost of generalizability.  \n",
    "\n",
    "In general, these are two extreme forms of overfitting and underfitting. See also general considerations, which are usually discussed as [Bias-variance tradeoff](https://en.wikipedia.org/wiki/Bias%E2%80%93variance_tradeoff).\n",
    "\n",
    "There are two main problems with these methods:\n",
    "- Underfitting: Fitting a simple curve to the data is often not flexible enough and misses some relations. \n",
    " - Example: Linear regression\n",
    " - High bias, low variance\n",
    "- Overfitting: Very flexible methods are sensitive to fitting the noise in the data, hereby diluting the underlying signal that we are interested in.\n",
    " - Example: Polynomial regression\n",
    " - Low bias, high variance\n",
    " \n",
    "A good way to reduce overfitting is to regularize the model, i.e. penalize complexity. This can be implemented by considering a penalized least squares (PLS) objective function \n",
    "\n",
    "$$\n",
    "\\begin{align}\n",
    "\\beta_{PLS} = arg \\, \\underset{\\beta}{min} \\,[(y-X \\beta)'(y-X \\beta) + \\lambda \\cdot pen(\\beta)]\n",
    "\\end{align}\n",
    "$$ \n",
    "\n",
    "In **Ridge Regression**, the resulting penalty is simply given by the sum of the squared coefficients: \n",
    "\n",
    "$$pen(\\beta) = \\sum_{j=0}^k \\beta_j^2 = \\beta' \\beta$$\n",
    "\n",
    "**Least absolute Shrinkage and Selection Operator (LASSO)** replaces the penalty of squared regression coefficients with absolute values\n",
    "\n",
    "$$pen(\\beta) = \\sum_{j=0}^k |\\beta_j| $$\n",
    "\n",
    "leading to \n",
    "\n",
    "$$\n",
    "\\begin{align}\n",
    "\\hat{\\beta}_{LASSO} = arg \\, \\underset{\\beta}{min} \\,(y-X \\beta)'(y-X \\beta) + \\lambda \\cdot \\sum_{j=1}^k |\\beta_k|\n",
    "\\end{align}\n",
    "$$ \n",
    "\n",
    "Both models can be used to balance between fit to the data and regularized solutions by modifying the smoothing parameter $\\lambda$. Ridge regression adds a quadratic penalty with large impact on big coefficients and small penalty for small coefficient values. LASSO penalties increase at a slower rate for large coefficient values, leading to the behavior that small coefficients will be more strongly drawn towards zero, while larger coefficients will be less affected. "
   ]
  },
  {
   "cell_type": "code",
   "execution_count": 10,
   "metadata": {},
   "outputs": [
    {
     "name": "stdout",
     "output_type": "stream",
     "text": [
      "Coefficients: [ 0.      2.3579  2.0044 -0.0551 -3.9281  0.    ]\n"
     ]
    }
   ],
   "source": [
    "# Regularization\n",
    "from sklearn.linear_model import Lasso, Ridge\n",
    "\n",
    "# Assign the data to predictor and outcome variables\n",
    "train_data = pd.read_csv(\"data/data_regularization.csv\", header= None)\n",
    "X = train_data.iloc[:, :6]\n",
    "y = train_data.iloc[:, 6]\n",
    "\n",
    "# Lasso Reg\n",
    "lasso_reg = Lasso()\n",
    "lasso_reg.fit(X,y)\n",
    "\n",
    "reg_coef = lasso_reg.coef_\n",
    "print(\"Coefficients:\",reg_coef.round(4))"
   ]
  },
  {
   "cell_type": "code",
   "execution_count": 11,
   "metadata": {},
   "outputs": [
    {
     "name": "stdout",
     "output_type": "stream",
     "text": [
      "         0        1         2        3        4        5\n",
      "0  1.25664  2.04978  -6.23640  4.71926 -4.26931  0.20590\n",
      "1 -3.89012 -0.37511   6.14979  4.94585 -3.57844  0.00640\n",
      "2  5.09784  0.98120  -0.29939  5.85805  0.28297 -0.20626\n",
      "3  0.39034 -3.06861  -5.63488  6.43941  0.39256 -0.07084\n",
      "4  5.84727 -0.15922  11.41246  7.52165  1.69886  0.29022\n",
      "\n",
      " 0    12.31798\n",
      "1    23.67628\n",
      "2    -1.53459\n",
      "3   -24.68670\n",
      "4    17.54122\n",
      "Name: 6, dtype: float64\n",
      "\n",
      "Coefficients: [  0.       3.9075   9.0258  -0.     -11.783    0.4534]\n"
     ]
    }
   ],
   "source": [
    "# Feature Scaling\n",
    "from sklearn.preprocessing import StandardScaler\n",
    "\n",
    "# Assign the data to predictor and outcome variables\n",
    "train_data = pd.read_csv(\"data/data_regularization.csv\", header= None)\n",
    "\n",
    "X = train_data.iloc[:,0:-1]\n",
    "y = train_data.iloc[:,-1]\n",
    "\n",
    "# show data\n",
    "print(X.head())\n",
    "print(\"\\n\", y.head())\n",
    "\n",
    "# Standardize \n",
    "scaler = StandardScaler()\n",
    "X_scaled = scaler.fit_transform(X)\n",
    "\n",
    "# Lasso Reg\n",
    "lasso_reg = Lasso()\n",
    "lasso_reg.fit(X_scaled,y )\n",
    "\n",
    "reg_coef = lasso_reg.coef_\n",
    "print(\"\\nCoefficients:\",reg_coef.round(4))"
   ]
  },
  {
   "cell_type": "code",
   "execution_count": 12,
   "metadata": {},
   "outputs": [
    {
     "name": "stdout",
     "output_type": "stream",
     "text": [
      "Coefficients: [ -0.0297   5.0902   9.7168  -0.6581 -12.411    1.6931]\n"
     ]
    }
   ],
   "source": [
    "train_data = pd.read_csv(\"data/data_regularization.csv\", header= None)\n",
    "\n",
    "X = train_data.iloc[:,0:-1]\n",
    "y = train_data.iloc[:, -1]\n",
    "\n",
    "# Standardize \n",
    "scaler = StandardScaler()\n",
    "X_scaled = scaler.fit_transform(X)\n",
    "\n",
    "# Lasso Reg\n",
    "ridge_reg = Ridge()\n",
    "ridge_reg.fit(X_scaled,y )\n",
    "\n",
    "reg_coef = ridge_reg.coef_\n",
    "print(\"Coefficients:\", reg_coef.round(4))"
   ]
  },
  {
   "cell_type": "markdown",
   "metadata": {},
   "source": [
    "**to do**\n",
    "- Add visualizations, a more complex dataset and compare to linear model. Compare different values of $\\lambda$.\n",
    "- Add Inference\n",
    "- [Lasso and Elastic Net](https://scikit-learn.org/stable/auto_examples/linear_model/plot_lasso_coordinate_descent_path.html#sphx-glr-auto-examples-linear-model-plot-lasso-coordinate-descent-path-py)\n",
    "- [Lasso model selection: Cross-validation / AIC / BIC](https://scikit-learn.org/stable/auto_examples/linear_model/plot_lasso_model_selection.html#sphx-glr-auto-examples-linear-model-plot-lasso-model-selection-py)\n",
    "- [Lasso path using LARS](https://scikit-learn.org/stable/auto_examples/linear_model/plot_lasso_lars.html#sphx-glr-auto-examples-linear-model-plot-lasso-lars-py)\n",
    "- [Cross-Validation](https://scikit-learn.org/stable/auto_examples/exercises/plot_cv_diabetes.html#sphx-glr-auto-examples-exercises-plot-cv-diabetes-py)\n"
   ]
  },
  {
   "cell_type": "markdown",
   "metadata": {},
   "source": [
    "---\n",
    "## 4. Quantile Regression \n",
    "Quantile regression (QR) has become a widely used statistical method to analyse the relationship between dependent and independent variables. Whereas ordinary least squares (OLS) relates covariates to the conditional expectation function, QR links to the conditional quantile function:\n",
    "$$\n",
    "\\begin{align}\n",
    "Q_{\\tau} (y|x) = x' \\beta_{\\tau}\n",
    "\\end{align}\n",
    "$$\n",
    "meaning that given x, what is the respective $\\tau$-quantile of y, giving additional insights about the distribution of y. It is often used to examine the effect of x on the tails of the distribution of y. For example, to answer questions like \"What is the effect of x on low income earners in the first decile?\" (e.g. the first of ten quantiles seperating the observations in ten parts). \n",
    "\n",
    "For more information and applications in R, see my repository on [Quantile Regression](https://github.com/tm1611/Quantile-Regression-Project)."
   ]
  },
  {
   "cell_type": "code",
   "execution_count": 13,
   "metadata": {},
   "outputs": [
    {
     "name": "stdout",
     "output_type": "stream",
     "text": [
      "Total running time of the script: 2.81\n"
     ]
    }
   ],
   "source": [
    "end_notebook = time()\n",
    "time_notebook = end_notebook - start_notebook\n",
    "print(\"Total running time of the script:\", round(time_notebook,2))"
   ]
  }
 ],
 "metadata": {
  "kernelspec": {
   "display_name": "Python [conda env:Anaconda3]",
   "language": "python",
   "name": "conda-env-Anaconda3-py"
  },
  "language_info": {
   "codemirror_mode": {
    "name": "ipython",
    "version": 3
   },
   "file_extension": ".py",
   "mimetype": "text/x-python",
   "name": "python",
   "nbconvert_exporter": "python",
   "pygments_lexer": "ipython3",
   "version": "3.6.6"
  }
 },
 "nbformat": 4,
 "nbformat_minor": 2
}
